{
 "cells": [
  {
   "cell_type": "code",
   "execution_count": 1,
   "metadata": {},
   "outputs": [
    {
     "data": {
      "application/vnd.jupyter.widget-view+json": {
       "model_id": "c602bf3ccdd34a23bec8006cedda4009",
       "version_major": 2,
       "version_minor": 0
      },
      "text/plain": [
       "VBox(children=(HTML(value=''), Renderer(background='#cccc88', background_opacity=0.0, camera=PerspectiveCamera…"
      ]
     },
     "metadata": {},
     "output_type": "display_data"
    },
    {
     "data": {
      "application/vnd.jupyter.widget-view+json": {
       "model_id": "ff688f470e8b499fad8d60f713d54fea",
       "version_major": 2,
       "version_minor": 0
      },
      "text/plain": [
       "VBox(children=(HTML(value=''), Renderer(background='#cccc88', background_opacity=0.0, camera=PerspectiveCamera…"
      ]
     },
     "metadata": {},
     "output_type": "display_data"
    }
   ],
   "source": [
    "from solid import *\n",
    "from solid.utils import *\n",
    "import viewscad\n",
    "\n",
    "r = viewscad.Renderer(openscad_exec='C:\\Program Files\\OpenSCAD\\openscad.exe')\n",
    "\n",
    "def lego(W,L):\n",
    " x = minkowski()(cube([W,L,1]),(cylinder(1,True)))-hole()(cylinder(1,1))\n",
    " return r.render(x)\n",
    "lego(5,10)\n",
    "\n",
    "def lego(W,L):\n",
    " holes=translate([0.5,0.,1])(cylinder(.5,1))\n",
    " for i in range (1,L):\n",
    "  hole=translate([0.5,i*1.5,1])(cylinder(.5,1))\n",
    "  holes=holes+hole\n",
    " rows=0\n",
    " for i in range (1,W):\n",
    "  rows=rows+translate([i,0,0])(holes)\n",
    " y = minkowski()(cube([W,L,1]),(cylinder(1,True)))-holes-rows\n",
    " return r.render(y)\n",
    "\n",
    "lego(2,3)"
   ]
  },
  {
   "cell_type": "code",
   "execution_count": 2,
   "metadata": {},
   "outputs": [
    {
     "data": {
      "application/vnd.jupyter.widget-view+json": {
       "model_id": "4b6e416f01fb4ae3994bf22aa14087a7",
       "version_major": 2,
       "version_minor": 0
      },
      "text/plain": [
       "VBox(children=(HTML(value=''), Renderer(background='#cccc88', background_opacity=0.0, camera=PerspectiveCamera…"
      ]
     },
     "metadata": {},
     "output_type": "display_data"
    }
   ],
   "source": [
    "def NEMA(standard):\n",
    " base=(cube([0.1,standard/10,standard/10]))\n",
    " posts=0\n",
    " for i in range (0,5):\n",
    "  post=translate([0.05,0.25+0.15*i,standard/10])(cylinder(.04,.1))\n",
    "  posts=posts+post\n",
    " bottom_posts=translate([0,0,-standard/10-0.1])(posts)\n",
    " hole1=rotate(90,[0,1,0])(translate([-standard/10+0.1,standard/10-0.1,0])(cylinder(0.05,0.1)))\n",
    " hole2=rotate(90,[0,1,0])(translate([-standard/10+0.1,0.1,0])(cylinder(0.05,0.1)))\n",
    " hole3=rotate(90,[0,1,0])(translate([-0.1,0.1,0])(cylinder(0.05,0.1)))\n",
    " hole4=rotate(90,[0,1,0])(translate([-0.1,standard/10-0.1,0])(cylinder(0.05,0.1)))\n",
    " big_hole=rotate(90,[0,1,0])(translate([-standard/20,standard/20,0])(cylinder(0.4,0.1)))\n",
    " small_holes=hole1+hole2+hole3+hole4\n",
    " return r.render(base+posts+bottom_posts-small_holes-big_hole)\n",
    "NEMA(11)"
   ]
  },
  {
   "cell_type": "code",
   "execution_count": 3,
   "metadata": {},
   "outputs": [
    {
     "data": {
      "application/vnd.jupyter.widget-view+json": {
       "model_id": "e6ea7c7ed2424234b3bf9b2da129b9f5",
       "version_major": 2,
       "version_minor": 0
      },
      "text/plain": [
       "VBox(children=(HTML(value=''), Renderer(background='#cccc88', background_opacity=0.0, camera=PerspectiveCamera…"
      ]
     },
     "metadata": {},
     "output_type": "display_data"
    }
   ],
   "source": [
    "def adapter(size):\n",
    " lego=translate([0.5,0,3])(cylinder(.5,1))\n",
    " inner_shaft=translate([0.5,0,4])(cylinder(size,0.5))\n",
    " outer_shaft=translate([0.5,0,4])(cylinder(size+0.1,0.5))\n",
    " shaft=outer_shaft-inner_shaft\n",
    "\n",
    " holes=translate([0.5,0.,1])(cylinder(.5,1))\n",
    " L=3\n",
    " W=2\n",
    " for i in range (1,L):\n",
    "  hole=translate([0.5,i*1.5,1])(cylinder(.5,1))\n",
    "  holes=holes+hole\n",
    " rows=0\n",
    " for i in range (1,W):\n",
    "  rows=rows+translate([i,0,0])(holes)\n",
    " x = minkowski()(cube([W,L,1]),(cylinder(1,True)))-holes-rows\n",
    " return r.render(lego+shaft+x)\n",
    "adapter(0.2)"
   ]
  },
  {
   "cell_type": "code",
   "execution_count": null,
   "metadata": {},
   "outputs": [],
   "source": []
  }
 ],
 "metadata": {
  "kernelspec": {
   "display_name": "Python 3",
   "language": "python",
   "name": "python3"
  },
  "language_info": {
   "codemirror_mode": {
    "name": "ipython",
    "version": 3
   },
   "file_extension": ".py",
   "mimetype": "text/x-python",
   "name": "python",
   "nbconvert_exporter": "python",
   "pygments_lexer": "ipython3",
   "version": "3.7.3"
  }
 },
 "nbformat": 4,
 "nbformat_minor": 2
}
