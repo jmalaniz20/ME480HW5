{
 "cells": [
  {
   "cell_type": "code",
   "execution_count": 1,
   "metadata": {},
   "outputs": [],
   "source": [
    "from solid import *\n",
    "from solid.utils import *\n",
    "import viewscad\n",
    "\n",
    "r = viewscad.Renderer(openscad_exec='C:\\Program Files\\OpenSCAD\\openscad.exe')"
   ]
  },
  {
   "cell_type": "code",
   "execution_count": 2,
   "metadata": {},
   "outputs": [
    {
     "data": {
      "application/vnd.jupyter.widget-view+json": {
       "model_id": "317b14ec03274ae1a5a5082d25eadf9b",
       "version_major": 2,
       "version_minor": 0
      },
      "text/plain": [
       "VBox(children=(HTML(value=''), Renderer(background='#cccc88', background_opacity=0.0, camera=PerspectiveCamera…"
      ]
     },
     "metadata": {},
     "output_type": "display_data"
    }
   ],
   "source": [
    "cyl_outer=10\n",
    "cyl_inner=5\n",
    "height=10\n",
    "outer=cylinder(r=cyl_outer,h=height)\n",
    "inner=cylinder(r=cyl_inner,h=height)\n",
    "cyl_a=outer-hole()(inner)\n",
    "r.render(cyl_a)"
   ]
  },
  {
   "cell_type": "code",
   "execution_count": 3,
   "metadata": {},
   "outputs": [
    {
     "data": {
      "application/vnd.jupyter.widget-view+json": {
       "model_id": "3d9f9e60a51242db86552fe25a79c8f9",
       "version_major": 2,
       "version_minor": 0
      },
      "text/plain": [
       "VBox(children=(HTML(value=''), Renderer(background='#cccc88', background_opacity=0.0, camera=PerspectiveCamera…"
      ]
     },
     "metadata": {},
     "output_type": "display_data"
    }
   ],
   "source": [
    "def macaroni(inner,outer):\n",
    "    if inner>outer:\n",
    "        return\n",
    "    height=15\n",
    "    out=cylinder(r=outer,h=height)\n",
    "    inn=cylinder(r=inner,h=height)\n",
    "    cyl=out-hole()(inn)\n",
    "    return cyl\n",
    "r.render(macaroni(2,10))"
   ]
  },
  {
   "cell_type": "code",
   "execution_count": 9,
   "metadata": {},
   "outputs": [
    {
     "data": {
      "application/vnd.jupyter.widget-view+json": {
       "model_id": "8f3d50f2d1f6445e986af55772de5ce1",
       "version_major": 2,
       "version_minor": 0
      },
      "text/plain": [
       "VBox(children=(HTML(value=''), Renderer(background='#cccc88', background_opacity=0.0, camera=PerspectiveCamera…"
      ]
     },
     "metadata": {},
     "output_type": "display_data"
    }
   ],
   "source": [
    "def overlap_cyl(thickness,inner1,inner2):\n",
    "    ht=12\n",
    "    outer1=(2*thickness)+inner1\n",
    "    cylout1=cylinder(r=outer1,h=ht)\n",
    "    cylin1=cylinder(r=inner1,h=ht)\n",
    "    cyl1=cylout1-hole()(cylin1)\n",
    "    \n",
    "    outer2=(2*thickness)+inner2\n",
    "    cylout2=cylinder(r=outer2,h=ht)\n",
    "    cylin2=cylinder(r=inner2,h=ht)\n",
    "    cyl2=cylout2-hole()(cylin2)\n",
    "    cyl2_translate=translate([0,outer1+(inner2/2),0])(cyl2)\n",
    "    return r.render(cyl1+cyl2_translate)\n",
    "overlap_cyl(5,4,5)\n",
    "    "
   ]
  },
  {
   "cell_type": "code",
   "execution_count": null,
   "metadata": {},
   "outputs": [],
   "source": []
  },
  {
   "cell_type": "code",
   "execution_count": null,
   "metadata": {},
   "outputs": [],
   "source": []
  },
  {
   "cell_type": "code",
   "execution_count": null,
   "metadata": {},
   "outputs": [],
   "source": []
  },
  {
   "cell_type": "code",
   "execution_count": null,
   "metadata": {},
   "outputs": [],
   "source": []
  }
 ],
 "metadata": {
  "kernelspec": {
   "display_name": "Python 3",
   "language": "python",
   "name": "python3"
  },
  "language_info": {
   "codemirror_mode": {
    "name": "ipython",
    "version": 3
   },
   "file_extension": ".py",
   "mimetype": "text/x-python",
   "name": "python",
   "nbconvert_exporter": "python",
   "pygments_lexer": "ipython3",
   "version": "3.7.3"
  }
 },
 "nbformat": 4,
 "nbformat_minor": 2
}
